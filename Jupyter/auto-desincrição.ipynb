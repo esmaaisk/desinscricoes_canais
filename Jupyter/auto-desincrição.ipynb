{
 "cells": [
  {
   "cell_type": "code",
   "execution_count": 4,
   "id": "33c3dcd6",
   "metadata": {},
   "outputs": [
    {
     "ename": "NameError",
     "evalue": "name 'Time' is not defined",
     "output_type": "error",
     "traceback": [
      "\u001b[1;31m---------------------------------------------------------------------------\u001b[0m",
      "\u001b[1;31mNameError\u001b[0m                                 Traceback (most recent call last)",
      "Cell \u001b[1;32mIn[4], line 11\u001b[0m\n\u001b[0;32m      9\u001b[0m T\u001b[38;5;241m.\u001b[39msleep(\u001b[38;5;241m10\u001b[39m)\n\u001b[0;32m     10\u001b[0m pg\u001b[38;5;241m.\u001b[39mwrite(\u001b[38;5;124mr\u001b[39m\u001b[38;5;124m\"\u001b[39m\u001b[38;5;124mhttps://www.youtube.com\u001b[39m\u001b[38;5;124m\"\u001b[39m)\n\u001b[1;32m---> 11\u001b[0m \u001b[43mTime\u001b[49m\u001b[38;5;241m.\u001b[39msleep(\u001b[38;5;241m2\u001b[39m)\n\u001b[0;32m     12\u001b[0m pg\u001b[38;5;241m.\u001b[39mpress(\u001b[38;5;124m\"\u001b[39m\u001b[38;5;124menter\u001b[39m\u001b[38;5;124m\"\u001b[39m)\n\u001b[0;32m     14\u001b[0m \u001b[38;5;66;03m# estas são as variaveis que vai fazer o loop funcionar.\u001b[39;00m\n",
      "\u001b[1;31mNameError\u001b[0m: name 'Time' is not defined"
     ]
    }
   ],
   "source": [
    "# blibliotecas para fazer funcionar os codigos de automação\n",
    "import pyautogui as pg\n",
    "import time as T\n",
    "pg.PAUSE = 2\n",
    "\n",
    "# entrar no youtube.\n",
    "\n",
    "pg.hotkey(\"ctrl\", \"t\")\n",
    "T.sleep(10)\n",
    "pg.write(r\"https://www.youtube.com\")\n",
    "Time.sleep(2)\n",
    "pg.press(\"enter\")\n",
    "\n",
    "# estas são as variaveis que vai fazer o loop funcionar.\n",
    "determinante = 209\n",
    "i = 0\n",
    "\n",
    "\n",
    "# loop para desinscrever dos canais.\n",
    "while i <= determinante:\n",
    "    #entrando no canal\n",
    "    T.sleep(5)\n",
    "    pg.click(x=142, y=628) #se caso mudar, adaptar pra sua tela.\n",
    "    T.sleep(9)\n",
    "    #aqui vai selecionar o botão de inscrito.\n",
    "    screenshot = pg.screenshot()\n",
    "    T.sleep(2)\n",
    "    img = pg.locateOnScreen(\"insscritp.png\") #adicionar imagem do primeiro botão\n",
    "    if img is not None:\n",
    "        x, y = pg.center(img)\n",
    "        pg.click(x, y)\n",
    "    else:\n",
    "        print(\"não encontrado a img1\")\n",
    "    T.sleep(2)\n",
    "    \n",
    "    #aqui vai selecionar o botão de inscrito 2.\n",
    "    screenshot = pg.screenshot\n",
    "    img2 = pg.locateOnScreen(\"inscrito_dif.png\") #adicionar imagem do segundo botão\n",
    "    if img2 is not None:\n",
    "        x, y =pg.center(img2)\n",
    "        pg.click(x, y)\n",
    "    else:\n",
    "        print(\"nao encontrado a img2\")\n",
    "    \n",
    "    T.sleep(2)\n",
    "    #aqui vai selecionar o botão de inscrito 3.\n",
    "    screenshot = pg.screenshot\n",
    "    img3 = pg.locateOnScreen(\"inscrito_deff.png\") #adicionar imagem do terceiro botão\n",
    "    if img3 is not None:\n",
    "        x, y =pg.center(img3)\n",
    "        pg.click(x, y)\n",
    "    else:\n",
    "        print(\"nao encontrado a img3\")\n",
    "\n",
    "    T.sleep(2)\n",
    "    #aqui vai selecionar o botão de cancelar. \n",
    "    screenshot = pg.screenshot\n",
    "    img4 = pg.locateOnScreen(\"cancelrp.png\") #adicionar imagem de cancelar inscrição\n",
    "    if img4 is not None:\n",
    "        x, y =pg.center(img4)\n",
    "        pg.click(x, y)\n",
    "    else:\n",
    "        print(\"nao encontrado a img4\")\n",
    "    T.sleep(2)\n",
    "    #aqui vai selecionar o botão de cancelar o ultimo.\n",
    "    pg.click(x=893, y=518) #se caso mudar, adaptar pra sua tela."
   ]
  },
  {
   "cell_type": "markdown",
   "id": "ecf4ed08",
   "metadata": {},
   "source": []
  },
  {
   "cell_type": "code",
   "execution_count": 11,
   "id": "c03e2773",
   "metadata": {},
   "outputs": [
    {
     "data": {
      "text/plain": [
       "Point(x=548, y=199)"
      ]
     },
     "execution_count": 11,
     "metadata": {},
     "output_type": "execute_result"
    }
   ],
   "source": [
    "T.sleep(5)\n",
    "pg.position()"
   ]
  },
  {
   "cell_type": "code",
   "execution_count": 1,
   "id": "73ca13bb",
   "metadata": {},
   "outputs": [
    {
     "name": "stdout",
     "output_type": "stream",
     "text": [
      "Collecting pygame\n",
      "  Downloading pygame-2.3.0-cp38-cp38-win_amd64.whl (10.6 MB)\n",
      "Installing collected packages: pygame\n",
      "Successfully installed pygame-2.3.0\n"
     ]
    },
    {
     "name": "stderr",
     "output_type": "stream",
     "text": [
      "WARNING: You are using pip version 20.2.1; however, version 23.1 is available.\n",
      "You should consider upgrading via the 'c:\\users\\gera\\appdata\\local\\programs\\python\\python38\\python.exe -m pip install --upgrade pip' command.\n"
     ]
    }
   ],
   "source": []
  },
  {
   "cell_type": "code",
   "execution_count": null,
   "id": "9854d5b6",
   "metadata": {},
   "outputs": [],
   "source": [
    "import pygame as py\n",
    "from pygame.locals import *\n",
    "from sys import exit\n",
    "py.init()\n",
    "tela = py.display.set_mode((640, 480))\n",
    "while True:\n",
    "    for event in py.event.get():\n",
    "        if event.type == QUIT:\n",
    "            exit()\n",
    "    py.display.update()"
   ]
  }
 ],
 "metadata": {
  "kernelspec": {
   "display_name": "Python 3 (ipykernel)",
   "language": "python",
   "name": "python3"
  },
  "language_info": {
   "codemirror_mode": {
    "name": "ipython",
    "version": 3
   },
   "file_extension": ".py",
   "mimetype": "text/x-python",
   "name": "python",
   "nbconvert_exporter": "python",
   "pygments_lexer": "ipython3",
   "version": "3.8.6"
  }
 },
 "nbformat": 4,
 "nbformat_minor": 5
}
